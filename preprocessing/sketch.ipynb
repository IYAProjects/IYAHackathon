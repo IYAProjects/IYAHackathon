{
 "cells": [
  {
   "cell_type": "code",
   "execution_count": 22,
   "source": [
    "import cv2\n",
    "\n",
    "image = cv2.imread('./gun copy.png')\n",
    "\n",
    "img_gray = cv2.cvtColor(image, cv2.COLOR_BGR2GRAY)\n",
    "img_gray = cv2.GaussianBlur(img_gray, (9, 9), 0)\n",
    "edges = cv2.Laplacian(img_gray, -1, None, 5)\n",
    "ret, sketch = cv2.threshold(edges, 70, 255, cv2.THRESH_BINARY_INV)\n",
    "\n",
    "kernel = cv2.getStructuringElement(cv2.MORPH_CROSS, (3, 3))\n",
    "sketch = cv2.erode(sketch, kernel)\n",
    "sketch = cv2.medianBlur(sketch, 5)\n",
    "img_sketch = cv2.cvtColor(sketch, cv2.COLOR_GRAY2BGR)\n",
    "\n",
    "img_paint = cv2.blur(image, (10, 10))\n",
    "img_paint = cv2.bitwise_and(image, img_paint)\n",
    "\n",
    "cv2.imshow('original', image)\n",
    "cv2.imshow('paint', img_paint)\n",
    "cv2.waitKey(0)\n",
    "cv2.destroyAllWindows()"
   ],
   "outputs": [],
   "metadata": {}
  },
  {
   "cell_type": "code",
   "execution_count": null,
   "source": [],
   "outputs": [],
   "metadata": {}
  }
 ],
 "metadata": {
  "orig_nbformat": 4,
  "language_info": {
   "name": "python",
   "version": "3.8.10",
   "mimetype": "text/x-python",
   "codemirror_mode": {
    "name": "ipython",
    "version": 3
   },
   "pygments_lexer": "ipython3",
   "nbconvert_exporter": "python",
   "file_extension": ".py"
  },
  "kernelspec": {
   "name": "python3",
   "display_name": "Python 3.8.10 64-bit ('jupyter': virtualenv)"
  },
  "interpreter": {
   "hash": "dbc4d67c486c8529ccab8645044d83be214319cefe5619226d22e06c4885e26d"
  }
 },
 "nbformat": 4,
 "nbformat_minor": 2
}